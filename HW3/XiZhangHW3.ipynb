{
 "cells": [
  {
   "cell_type": "code",
   "execution_count": 1,
   "id": "86960e3e",
   "metadata": {},
   "outputs": [],
   "source": [
    "import math\n",
    "import pandas as pd\n",
    "from matplotlib import pyplot as plt\n",
    "import numpy as np\n",
    "\n",
    "from sklearn import metrics\n",
    "from sklearn.neighbors import KNeighborsClassifier\n",
    "from sklearn.linear_model import LogisticRegression\n",
    "from sklearn.metrics import precision_score\n",
    "from sklearn.metrics import recall_score\n",
    "from sklearn.metrics import accuracy_score\n",
    "from sklearn.metrics import roc_curve, auc"
   ]
  },
  {
   "cell_type": "code",
   "execution_count": 7,
   "id": "d937c77e",
   "metadata": {},
   "outputs": [
    {
     "data": {
      "text/plain": [
       "Text(0, 0.5, 'TPR')"
      ]
     },
     "execution_count": 7,
     "metadata": {},
     "output_type": "execute_result"
    },
    {
     "data": {
      "image/png": "[encoded data removed]",
      "text/plain": [
       "<Figure size 432x288 with 1 Axes>"
      ]
     },
     "metadata": {
      "needs_background": "light"
     },
     "output_type": "display_data"
    }
   ],
   "source": [
    "# problem 5 drawing ROC curve\n",
    "FPR = [0,0,0.25,0.5,1]\n",
    "TPR = [0,1/3,1,1,1]\n",
    "plt.plot(FPR,TPR)\n",
    "plt.xlabel(\"FPR\")\n",
    "plt.ylabel(\"TPR\")"
   ]
  },
  {
   "cell_type": "code",
   "execution_count": 16,
   "id": "b5ed6d89",
   "metadata": {},
   "outputs": [],
   "source": [
    "#KNN algorithm \n",
    "def euclidean_distance(point1, point2):\n",
    "    point2 = np.array(point2)[0:2]\n",
    "    return np.linalg.norm(point1 - point2)\n",
    "\n",
    "def get_neighbors(train, test_row, num_neighbors):\n",
    "    distances = list()\n",
    "    for index, train_row in train.iterrows():\n",
    "        dist = euclidean_distance(test_row, train_row)\n",
    "        distances.append((train_row, dist))\n",
    "    distances.sort(key=lambda tup: tup[1])\n",
    "    neighbors = []\n",
    "    for i in range(num_neighbors):\n",
    "        neighbors.append(distances[i][0])\n",
    "    return neighbors\n",
    "\n",
    "def predict_classification(train, test_row, num_neighbors):\n",
    "    neighbors = get_neighbors(train, test_row, num_neighbors)\n",
    "    output_values = [row[-1] for row in neighbors]\n",
    "    prediction = max(set(output_values), key=output_values.count)\n",
    "    return prediction\n",
    "\n",
    "def k_nearest_neighbors(train, test, num_neighbors):\n",
    "    predictions = []\n",
    "    for row in test:\n",
    "        output = predict_classification(train, row, num_neighbors)\n",
    "        predictions.append(output)\n",
    "    return(predictions)"
   ]
  },
  {
   "cell_type": "code",
   "execution_count": 49,
   "id": "1a0d15ce",
   "metadata": {},
   "outputs": [],
   "source": [
    "#log regression algo\n",
    "def sigmoid(z):\n",
    "    return 1.0/(1 + np.exp(-z))\n",
    "\n",
    "def loss(y, y_hat):\n",
    "    loss = -np.mean(y*(np.log(y_hat)) - (1-y)*np.log(1-y_hat))\n",
    "    return loss\n",
    "\n",
    "def gradients(X, y, y_hat):\n",
    "    m = X.shape[0]\n",
    "    #gradient with respect to weight and bias\n",
    "    dw = (1/m)*np.dot(X.T, (y_hat - y))\n",
    "    db = (1/m)*np.sum((y_hat - y)) \n",
    "    return dw, db\n",
    "\n",
    "def train(X, y, bs, epochs, lr):\n",
    "    X = np.array(X)\n",
    "    y = np.array(y)\n",
    "    m, n = X.shape\n",
    "    \n",
    "    # Initializing weights and bias to zeros.\n",
    "    w = np.zeros((n,1))\n",
    "    b = 0\n",
    "    \n",
    "    # Reshaping y.\n",
    "    y = y.reshape(m,1)\n",
    "    # Empty list to store losses.\n",
    "    losses = []\n",
    "    \n",
    "    for epoch in range(epochs):\n",
    "        for i in range((m-1)//bs + 1):\n",
    "            \n",
    "            # Defining batches. SGD.\n",
    "            start_i = i*bs\n",
    "            end_i = start_i + bs\n",
    "            xb = X[start_i:end_i]\n",
    "            yb = y[start_i:end_i]\n",
    "            \n",
    "            # Calculating hypothesis/prediction.\n",
    "            y_hat = sigmoid(np.dot(xb, w) + b)\n",
    "            \n",
    "            # Getting the gradients of loss w.r.t parameters.\n",
    "            dw, db = gradients(xb, yb, y_hat)\n",
    "            \n",
    "            # Updating the parameters.\n",
    "            w -= lr*dw\n",
    "            b -= lr*db\n",
    "        \n",
    "        # Calculating loss and appending it in the list.\n",
    "        l = loss(y, sigmoid(np.dot(X, w) + b))\n",
    "        losses.append(l)\n",
    "        \n",
    "    # returning weights, bias and losses(List).\n",
    "    return w, b, losses\n",
    "\n",
    "#prediction threshold = 0.5\n",
    "def predict(X,w,b):\n",
    "    preds = sigmoid(np.dot(X, w) + b) \n",
    "    # Empty List to store predictions.\n",
    "    pred_class = []\n",
    "    pred_class = [1 if i > 0.5 else 0 for i in preds]\n",
    "    return np.array(pred_class)\n",
    "\n",
    "def accuracy(y, y_hat):\n",
    "    accuracy = np.sum(y == y_hat) / len(y)\n",
    "    return accuracy"
   ]
  },
  {
   "cell_type": "code",
   "execution_count": 23,
   "id": "a570adf0",
   "metadata": {},
   "outputs": [],
   "source": [
    "df = pd.read_csv('data\\D2z.txt', sep=\" \", header=None)\n",
    "df.columns = ['x1', 'x2', 'y']\n",
    "cols = df.columns\n",
    "df[cols] = df[cols].apply(pd.to_numeric, errors='coerce')\n",
    "x1_test = []\n",
    "x2_test = []\n",
    "#generate the grid\n",
    "for i, vi in enumerate(np.arange(-2, 2.1, 0.1)):\n",
    "        for j, vj in enumerate(np.arange(-2, 2.1, 0.1)):\n",
    "            x1_test.append(vi)\n",
    "            x2_test.append(vj)\n",
    "x1_test = np.array(x1_test)\n",
    "x2_test = np.array(x2_test)\n",
    "test = np.vstack((x1_test, x2_test)).T"
   ]
  },
  {
   "cell_type": "code",
   "execution_count": 24,
   "id": "5ad63304",
   "metadata": {},
   "outputs": [
    {
     "data": {
      "image/png": "[encoded data removed]",
      "text/plain": [
       "<Figure size 432x288 with 1 Axes>"
      ]
     },
     "metadata": {
      "needs_background": "light"
     },
     "output_type": "display_data"
    }
   ],
   "source": [
    "pred = np.array(k_nearest_neighbors(df, test, 1))\n",
    "test = np.append(test, pred.reshape(len(pred),1), 1)\n",
    "\n",
    "\n",
    "x1_test_neg = test[test[:, 2]==0][:, 0]\n",
    "x2_test_neg = test[test[:, 2]==0][:, 1]\n",
    "\n",
    "x1_test_pos = test[test[:, 2]==1][:, 0]\n",
    "x2_test_pos = test[test[:, 2]==1][:, 1]\n",
    "\n",
    "x1_train_pos = np.array(df[df['y'] == 1]['x1'])\n",
    "x2_train_pos = np.array(df[df['y'] == 1]['x2'])\n",
    "x1_train_neg = np.array(df[df['y'] == 0]['x1'])\n",
    "x2_train_neg = np.array(df[df['y'] == 0]['x2'])\n",
    "\n",
    "fig, ax = plt.subplots()\n",
    "plt.title(\"KNN plot for Program Section, p1\")\n",
    "plt.xlabel('x1')\n",
    "plt.ylabel('x2')\n",
    "plt.plot(x1_test_pos, x2_test_pos, '.', color='purple', markersize=2)\n",
    "plt.plot(x1_test_neg, x2_test_neg, '.', color='black', markersize=2)\n",
    "plt.plot(x1_train_pos, x2_train_pos, 'x', color='purple', markersize=2)\n",
    "plt.plot(x1_train_neg, x2_train_neg, 'o', color='black', markersize=2)\n",
    "plt.xlim(-2, 2)\n",
    "plt.ylim(-2, 2)\n",
    "ax.set_aspect('equal')\n",
    "plt.show()"
   ]
  },
  {
   "cell_type": "code",
   "execution_count": 35,
   "id": "4cedb7b5",
   "metadata": {},
   "outputs": [],
   "source": [
    "df = pd.read_csv('data\\emails.csv', sep=\",\")\n",
    "# Dropping the 1st column because it contains index\n",
    "df = df.drop(columns=df.columns[0])\n",
    "# Creating the individual splits\n",
    "fold1_train = df.iloc[:1000, :]\n",
    "fold1_test = df.iloc[1000:, :]\n",
    "\n",
    "fold2_train = df.iloc[1000:2000, :]\n",
    "fold2_test = pd.concat([df.iloc[:1000, :], df.iloc[2000:, :]])\n",
    "\n",
    "fold3_train = df.iloc[2000:3000, :]\n",
    "fold3_test = fold2_test = pd.concat([df.iloc[:2000, :], df.iloc[3000:, :]])\n",
    "\n",
    "fold4_train = df.iloc[3000:4000, :]\n",
    "fold4_test = fold2_test = pd.concat([df.iloc[:3000, :], df.iloc[4000:, :]])\n",
    "\n",
    "fold5_train = df.iloc[4000:5000, :]\n",
    "fold5_test = df.iloc[:3000, :]\n",
    "\n",
    "foldmain_train = df.iloc[:4000, :]\n",
    "foldmain_test = df.iloc[4000:5000, :]"
   ]
  },
  {
   "cell_type": "code",
   "execution_count": 42,
   "id": "8a51266f",
   "metadata": {},
   "outputs": [
    {
     "name": "stdout",
     "output_type": "stream",
     "text": [
      "Accuracy fold1: 0.78875\n",
      "Precision fold1: 0.6276252019386107\n",
      "Recall fold1: 0.6692506459948321\n",
      "Accuracy fold2: 0.8275\n",
      "Precision fold2: 0.6661870503597123\n",
      "Recall fold2: 0.8038194444444444\n",
      "Accuracy fold3: 0.78675\n",
      "Precision fold3: 0.6075156576200418\n",
      "Recall fold3: 0.7512908777969018\n",
      "Accuracy fold4: 0.76725\n",
      "Precision fold4: 0.5714285714285714\n",
      "Recall fold4: 0.7673611111111112\n",
      "Accuracy fold5: 0.7373333333333333\n",
      "Precision fold5: 0.5266544117647058\n",
      "Recall fold5: 0.6773049645390071\n"
     ]
    }
   ],
   "source": [
    "#use sklearn KNN here cause it runs faster\n",
    "neigh = KNeighborsClassifier(n_neighbors=1)\n",
    "neigh.fit(fold1_train.iloc[:, :-1], fold1_train.iloc[:, -1])\n",
    "y_pred = neigh.predict(fold1_test.iloc[:, :-1])\n",
    "print(\"Accuracy fold1: \" + str(accuracy_score(fold1_test.iloc[:, -1], y_pred)))\n",
    "print(\"Precision fold1: \" + str(precision_score(fold1_test.iloc[:, -1], y_pred, average='binary')))\n",
    "print(\"Recall fold1: \" + str(recall_score(fold1_test.iloc[:, -1], y_pred, average='binary')))\n",
    "    \n",
    "neigh = KNeighborsClassifier(n_neighbors=1)\n",
    "neigh.fit(fold2_train.iloc[:, :-1], fold2_train.iloc[:, -1])\n",
    "y_pred = neigh.predict(fold2_test.iloc[:, :-1])\n",
    "print(\"Accuracy fold2: \" + str(accuracy_score(fold2_test.iloc[:, -1], y_pred)))\n",
    "print(\"Precision fold2: \" + str(precision_score(fold2_test.iloc[:, -1], y_pred, average='binary')))\n",
    "print(\"Recall fold2: \" + str(recall_score(fold2_test.iloc[:, -1], y_pred, average='binary')))\n",
    "\n",
    "neigh = KNeighborsClassifier(n_neighbors=1)\n",
    "neigh.fit(fold3_train.iloc[:, :-1], fold3_train.iloc[:, -1])\n",
    "y_pred = neigh.predict(fold3_test.iloc[:, :-1])\n",
    "print(\"Accuracy fold3: \" + str(accuracy_score(fold3_test.iloc[:, -1], y_pred)))\n",
    "print(\"Precision fold3: \" + str(precision_score(fold3_test.iloc[:, -1], y_pred, average='binary')))\n",
    "print(\"Recall fold3: \" + str(recall_score(fold3_test.iloc[:, -1], y_pred, average='binary')))\n",
    "\n",
    "neigh = KNeighborsClassifier(n_neighbors=1)\n",
    "neigh.fit(fold4_train.iloc[:, :-1], fold4_train.iloc[:, -1])\n",
    "y_pred = neigh.predict(fold4_test.iloc[:, :-1])\n",
    "print(\"Accuracy fold4: \" + str(accuracy_score(fold4_test.iloc[:, -1], y_pred)))\n",
    "print(\"Precision fold4: \" + str(precision_score(fold4_test.iloc[:, -1], y_pred, average='binary')))\n",
    "print(\"Recall fold4: \" + str(recall_score(fold4_test.iloc[:, -1], y_pred, average='binary')))\n",
    "\n",
    "neigh = KNeighborsClassifier(n_neighbors=1)\n",
    "neigh.fit(fold5_train.iloc[:, :-1], fold5_train.iloc[:, -1])\n",
    "y_pred = neigh.predict(fold5_test.iloc[:, :-1])\n",
    "print(\"Accuracy fold5: \" + str(accuracy_score(fold5_test.iloc[:, -1], y_pred)))\n",
    "print(\"Precision fold5: \" + str(precision_score(fold5_test.iloc[:, -1], y_pred, average='binary')))\n",
    "print(\"Recall fold5: \" + str(recall_score(fold5_test.iloc[:, -1], y_pred, average='binary')))"
   ]
  },
  {
   "cell_type": "code",
   "execution_count": 50,
   "id": "f309115a",
   "metadata": {},
   "outputs": [
    {
     "name": "stderr",
     "output_type": "stream",
     "text": [
      "<ipython-input-49-0cfde8dbbc00>:3: RuntimeWarning: overflow encountered in exp\n",
      "  return 1.0/(1 + np.exp(-z))\n",
      "<ipython-input-49-0cfde8dbbc00>:6: RuntimeWarning: divide by zero encountered in log\n",
      "  loss = -np.mean(y*(np.log(y_hat)) - (1-y)*np.log(1-y_hat))\n",
      "<ipython-input-49-0cfde8dbbc00>:6: RuntimeWarning: invalid value encountered in multiply\n",
      "  loss = -np.mean(y*(np.log(y_hat)) - (1-y)*np.log(1-y_hat))\n"
     ]
    },
    {
     "name": "stdout",
     "output_type": "stream",
     "text": [
      "1fold Accuracy0.90025\n",
      "1fold Precision 0.8371681415929203\n",
      "1fold Recall 0.8148148148148148\n"
     ]
    },
    {
     "name": "stderr",
     "output_type": "stream",
     "text": [
      "<ipython-input-49-0cfde8dbbc00>:3: RuntimeWarning: overflow encountered in exp\n",
      "  return 1.0/(1 + np.exp(-z))\n",
      "<ipython-input-49-0cfde8dbbc00>:6: RuntimeWarning: divide by zero encountered in log\n",
      "  loss = -np.mean(y*(np.log(y_hat)) - (1-y)*np.log(1-y_hat))\n",
      "<ipython-input-49-0cfde8dbbc00>:6: RuntimeWarning: invalid value encountered in multiply\n",
      "  loss = -np.mean(y*(np.log(y_hat)) - (1-y)*np.log(1-y_hat))\n"
     ]
    },
    {
     "name": "stdout",
     "output_type": "stream",
     "text": [
      "2fold Accuracy0.70975\n",
      "2fold Precision 0.2631578947368421\n",
      "2fold Recall 0.004340277777777778\n"
     ]
    },
    {
     "name": "stderr",
     "output_type": "stream",
     "text": [
      "<ipython-input-49-0cfde8dbbc00>:3: RuntimeWarning: overflow encountered in exp\n",
      "  return 1.0/(1 + np.exp(-z))\n",
      "<ipython-input-49-0cfde8dbbc00>:6: RuntimeWarning: divide by zero encountered in log\n",
      "  loss = -np.mean(y*(np.log(y_hat)) - (1-y)*np.log(1-y_hat))\n",
      "<ipython-input-49-0cfde8dbbc00>:6: RuntimeWarning: invalid value encountered in multiply\n",
      "  loss = -np.mean(y*(np.log(y_hat)) - (1-y)*np.log(1-y_hat))\n"
     ]
    },
    {
     "name": "stdout",
     "output_type": "stream",
     "text": [
      "3fold Accuracy0.91275\n",
      "3fold Precision 0.8178264268960125\n",
      "3fold Recall 0.9001721170395869\n"
     ]
    },
    {
     "name": "stderr",
     "output_type": "stream",
     "text": [
      "<ipython-input-49-0cfde8dbbc00>:3: RuntimeWarning: overflow encountered in exp\n",
      "  return 1.0/(1 + np.exp(-z))\n",
      "<ipython-input-49-0cfde8dbbc00>:6: RuntimeWarning: divide by zero encountered in log\n",
      "  loss = -np.mean(y*(np.log(y_hat)) - (1-y)*np.log(1-y_hat))\n",
      "<ipython-input-49-0cfde8dbbc00>:6: RuntimeWarning: invalid value encountered in multiply\n",
      "  loss = -np.mean(y*(np.log(y_hat)) - (1-y)*np.log(1-y_hat))\n"
     ]
    },
    {
     "name": "stdout",
     "output_type": "stream",
     "text": [
      "4fold Accuracy0.91675\n",
      "4fold Precision 0.8502994011976048\n",
      "4fold Recall 0.8628472222222222\n"
     ]
    },
    {
     "name": "stderr",
     "output_type": "stream",
     "text": [
      "<ipython-input-49-0cfde8dbbc00>:3: RuntimeWarning: overflow encountered in exp\n",
      "  return 1.0/(1 + np.exp(-z))\n",
      "<ipython-input-49-0cfde8dbbc00>:6: RuntimeWarning: divide by zero encountered in log\n",
      "  loss = -np.mean(y*(np.log(y_hat)) - (1-y)*np.log(1-y_hat))\n",
      "<ipython-input-49-0cfde8dbbc00>:6: RuntimeWarning: invalid value encountered in multiply\n",
      "  loss = -np.mean(y*(np.log(y_hat)) - (1-y)*np.log(1-y_hat))\n"
     ]
    },
    {
     "name": "stdout",
     "output_type": "stream",
     "text": [
      "5fold Accuracy0.915\n",
      "5fold Precision 0.8472385428907168\n",
      "5fold Recall 0.8522458628841607\n"
     ]
    }
   ],
   "source": [
    "w1, b1, l = train(fold1_train.iloc[:, :-1], fold1_train.iloc[:,-1], bs=100, epochs=500, lr=0.02)\n",
    "predicted_c = predict(fold1_test.iloc[:, :-1],w1,b1)\n",
    "print(\"1fold Accuracy\"+str(accuracy(np.array(fold1_test.iloc[:, -1]),predicted_c)))\n",
    "print(\"1fold Precision \" + str(precision_score(np.array(fold1_test.iloc[:, -1]),predicted_c, average='binary')))\n",
    "print(\"1fold Recall \" + str(recall_score(np.array(fold1_test.iloc[:, -1]),predicted_c, average='binary')))\n",
    "\n",
    "w2, b2, l = train(fold1_train.iloc[:, :-1], fold2_train.iloc[:,-1], bs=100, epochs=500, lr=0.02)\n",
    "predicted_c = predict(fold2_test.iloc[:, :-1],w2,b2)\n",
    "print(\"2fold Accuracy\"+str(accuracy(np.array(fold2_test.iloc[:, -1]),predicted_c)))\n",
    "print(\"2fold Precision \" + str(precision_score(np.array(fold2_test.iloc[:, -1]),predicted_c, average='binary')))\n",
    "print(\"2fold Recall \" + str(recall_score(np.array(fold2_test.iloc[:, -1]),predicted_c, average='binary')))\n",
    "\n",
    "w3, b3, l = train(fold3_train.iloc[:, :-1], fold3_train.iloc[:,-1], bs=100, epochs=500, lr=0.02)\n",
    "predicted_c = predict(fold3_test.iloc[:, :-1],w3,b3)\n",
    "print(\"3fold Accuracy\"+str(accuracy(np.array(fold3_test.iloc[:, -1]),predicted_c)))\n",
    "print(\"3fold Precision \" + str(precision_score(np.array(fold3_test.iloc[:, -1]),predicted_c, average='binary')))\n",
    "print(\"3fold Recall \" + str(recall_score(np.array(fold3_test.iloc[:, -1]),predicted_c, average='binary')))\n",
    "\n",
    "w4, b4, l = train(fold4_train.iloc[:, :-1], fold4_train.iloc[:,-1], bs=100, epochs=500, lr=0.02)\n",
    "predicted_c = predict(fold4_test.iloc[:, :-1],w4,b4)\n",
    "print(\"4fold Accuracy\"+str(accuracy(np.array(fold4_test.iloc[:, -1]),predicted_c)))\n",
    "print(\"4fold Precision \" + str(precision_score(np.array(fold4_test.iloc[:, -1]),predicted_c, average='binary')))\n",
    "print(\"4fold Recall \" + str(recall_score(np.array(fold4_test.iloc[:, -1]),predicted_c, average='binary')))\n",
    "\n",
    "w5, b5, l = train(fold5_train.iloc[:, :-1], fold5_train.iloc[:,-1], bs=100, epochs=500, lr=0.02)\n",
    "predicted_c = predict(fold5_test.iloc[:, :-1],w5,b5)\n",
    "print(\"5fold Accuracy\"+str(accuracy(np.array(fold5_test.iloc[:, -1]),predicted_c)))\n",
    "print(\"5fold Precision \" + str(precision_score(np.array(fold5_test.iloc[:, -1]),predicted_c, average='binary')))\n",
    "print(\"5fold Recall \" + str(recall_score(np.array(fold5_test.iloc[:, -1]),predicted_c, average='binary')))"
   ]
  },
  {
   "cell_type": "code",
   "execution_count": 46,
   "id": "9b0e24b7",
   "metadata": {},
   "outputs": [],
   "source": [
    "avrg_accuracy = []\n",
    "for i in [1,3,5,7,10]:\n",
    "    accuracies = []\n",
    "    neigh = KNeighborsClassifier(n_neighbors=i)\n",
    "    neigh.fit(fold1_train.iloc[:, :-1], fold1_train.iloc[:, -1])\n",
    "    y_pred = neigh.predict(fold1_test.iloc[:, :-1])\n",
    "    accuracies.append(accuracy_score(fold1_test.iloc[:, -1], y_pred))\n",
    "\n",
    "    neigh = KNeighborsClassifier(n_neighbors=i)\n",
    "    neigh.fit(fold2_train.iloc[:, :-1], fold2_train.iloc[:, -1])\n",
    "    y_pred = neigh.predict(fold2_test.iloc[:, :-1])\n",
    "    accuracies.append(accuracy_score(fold2_test.iloc[:, -1], y_pred))\n",
    "\n",
    "    neigh = KNeighborsClassifier(n_neighbors=i)\n",
    "    neigh.fit(fold3_train.iloc[:, :-1], fold3_train.iloc[:, -1])\n",
    "    y_pred = neigh.predict(fold3_test.iloc[:, :-1])\n",
    "    accuracies.append(accuracy_score(fold3_test.iloc[:, -1], y_pred))\n",
    "\n",
    "    neigh = KNeighborsClassifier(n_neighbors=i)\n",
    "    neigh.fit(fold4_train.iloc[:, :-1], fold4_train.iloc[:, -1])\n",
    "    y_pred = neigh.predict(fold4_test.iloc[:, :-1])\n",
    "    accuracies.append(accuracy_score(fold4_test.iloc[:, -1], y_pred))\n",
    "\n",
    "    neigh = KNeighborsClassifier(n_neighbors=i)\n",
    "    neigh.fit(fold5_train.iloc[:, :-1], fold5_train.iloc[:, -1])\n",
    "    y_pred = neigh.predict(fold5_test.iloc[:, :-1])\n",
    "    accuracies.append(accuracy_score(fold5_test.iloc[:, -1], y_pred))\n",
    "    \n",
    "    avrg_accuracy.append(sum(accuracies)/5)"
   ]
  },
  {
   "cell_type": "code",
   "execution_count": 47,
   "id": "ecd1d293",
   "metadata": {},
   "outputs": [
    {
     "data": {
      "text/plain": [
       "Text(0.5, 1.0, 'knn accuracy vs #of neighbors plot')"
      ]
     },
     "execution_count": 47,
     "metadata": {},
     "output_type": "execute_result"
    },
    {
     "data": {
      "image/png": "[encoded data removed]",
      "text/plain": [
       "<Figure size 432x288 with 1 Axes>"
      ]
     },
     "metadata": {
      "needs_background": "light"
     },
     "output_type": "display_data"
    }
   ],
   "source": [
    "#knn accuracy vs #of neighbors plot\n",
    "plt.plot([1,3,5,7,10],avrg_accuracy)\n",
    "plt.xlabel(\"Number of Neighbors\")\n",
    "plt.ylabel(\"Average Accuracy\")\n",
    "plt.title(\"knn accuracy vs #of neighbors plot\")"
   ]
  },
  {
   "cell_type": "code",
   "execution_count": 54,
   "id": "c2eb2eb1",
   "metadata": {},
   "outputs": [
    {
     "data": {
      "image/png": "[encoded data removed]",
      "text/plain": [
       "<Figure size 432x288 with 1 Axes>"
      ]
     },
     "metadata": {
      "needs_background": "light"
     },
     "output_type": "display_data"
    }
   ],
   "source": [
    "neigh = KNeighborsClassifier(n_neighbors=5)\n",
    "neigh.fit(foldmain_train.iloc[:, :-1], foldmain_train.iloc[:, -1])\n",
    "y_pred = neigh.predict(foldmain_test.iloc[:, :-1])\n",
    "fpr_knn, tpr_knn, threshold = roc_curve(foldmain_test.iloc[:, -1], y_pred)\n",
    "\n",
    "lr = LogisticRegression(max_iter=1000)\n",
    "lr.fit(foldmain_train.iloc[:, :-1], foldmain_train.iloc[:,-1])\n",
    "predicted_classes = lr.predict(foldmain_test.iloc[:, :-1])\n",
    "fpr_log, tpr_log, threshold = roc_curve(foldmain_test.iloc[:, -1], predicted_classes)\n",
    "\n",
    "plt.title('ROC Curve, KNN and Log Regression Plot')\n",
    "plt.plot(fpr_knn, tpr_knn, 'b', color=\"purple\", label=\"kNN : AUC = 0.81\")\n",
    "plt.plot(fpr_log, tpr_log, 'b', color=\"black\", label=\"Logistic Regression : AUC = 0.92\")\n",
    "\n",
    "plt.legend(loc = 'lower right')\n",
    "plt.plot([0, 1], [0, 1],'v--')\n",
    "plt.xlim([0, 1])\n",
    "plt.ylim([0, 1])\n",
    "plt.ylabel('True Positive Rate')\n",
    "plt.xlabel('False Positive Rate')\n",
    "plt.show()"
   ]
  },
  {
   "cell_type": "code",
   "execution_count": null,
   "id": "3aebc0b0",
   "metadata": {},
   "outputs": [],
   "source": []
  }
 ],
 "metadata": {
  "kernelspec": {
   "display_name": "Python 3",
   "language": "python",
   "name": "python3"
  },
  "language_info": {
   "codemirror_mode": {
    "name": "ipython",
    "version": 3
   },
   "file_extension": ".py",
   "mimetype": "text/x-python",
   "name": "python",
   "nbconvert_exporter": "python",
   "pygments_lexer": "ipython3",
   "version": "3.8.8"
  }
 },
 "nbformat": 4,
 "nbformat_minor": 5
}
