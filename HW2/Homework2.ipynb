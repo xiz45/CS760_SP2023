{
 "cells": [
  {
   "cell_type": "code",
   "execution_count": 1,
   "id": "96ef65b0",
   "metadata": {},
   "outputs": [],
   "source": [
    "import numpy as np\n",
    "import copy\n",
    "import pandas as pd\n",
    "import numpy as np\n",
    "import math\n",
    "from pprint import pprint\n",
    "from collections import OrderedDict"
   ]
  },
  {
   "cell_type": "code",
   "execution_count": 2,
   "id": "eb38f6df",
   "metadata": {},
   "outputs": [],
   "source": [
    "class Node():\n",
    "    def __init__(self, attribute, threshold, left_nums=0, right_nums=0, leaf_nums=0, ig=0):\n",
    "        # Which column does it belong to\n",
    "        self.attr = attribute\n",
    "        # What is the threshold value that led to its split\n",
    "        self.thres = threshold\n",
    "\n",
    "        self.left = None\n",
    "        self.right = None\n",
    "\n",
    "        # Demographic data at that node\n",
    "        self.left_nums = 0\n",
    "        self.right_nums = 0\n",
    "        self.leaf_nums = 0\n",
    "\n",
    "        # Is it a leaf\n",
    "        self.leaf = False\n",
    "        # Label assigned to a node if leaf\n",
    "        self.predict = None\n",
    "        self.ig = ig"
   ]
  },
  {
   "cell_type": "code",
   "execution_count": 3,
   "id": "4e850e08",
   "metadata": {},
   "outputs": [],
   "source": [
    "def entropy(data):\n",
    "    count = len(data)\n",
    "    outcome = list(data[\"Outcome\"])\n",
    "    p0 = float(sum(b == 1 for b in outcome) / count)\n",
    "    p1 = float(1 - p0)\n",
    "    if p0 == 0 or p1 == 0:\n",
    "        H = 0\n",
    "    else:\n",
    "        H = -p0*np.log2(p0)-p1*(np.log2(p1))\n",
    "    return H\n",
    "\n",
    "def info_gain(df, fea, threshold):\n",
    "    count = len(df)\n",
    "    sub_1 = df[df[fea] < threshold]\n",
    "    sub_2 = df[df[fea] >= threshold]\n",
    "    if len(sub_1) == 0 or len(sub_2) == 0: \n",
    "        print(fea + \" split at \" + str(threshold) + \": IG: 0\" + \" Gain Ratio: inf\")\n",
    "        return 0\n",
    "\n",
    "    remainder = float((sub_1.shape[0]/count) * entropy(sub_1) + (sub_2.shape[0]/count) * entropy(sub_2))\n",
    "    I = float(-1*sub_1.shape[0]/count)*np.log2(sub_1.shape[0]/count) + float(-1*sub_2.shape[0]/count)*np.log2(sub_2.shape[0]/count)\n",
    "    infoGain = entropy(df)- remainder\n",
    "    gain_ratio = infoGain /I\n",
    "    print(fea + \" split at \" + str(threshold) + \": IG: \" + str(infoGain)+ \" Gain Ratio: \" + str(gain_ratio))\n",
    "    return infoGain"
   ]
  },
  {
   "cell_type": "code",
   "execution_count": 4,
   "id": "769f63ba",
   "metadata": {},
   "outputs": [],
   "source": [
    "df = pd.read_csv(\"Druns.txt\", sep=\" \", header=None)\n",
    "df.columns = ['x1', 'x2', 'Outcome']\n",
    "cols = df.columns   \n",
    "df[cols] = df[cols].apply(pd.to_numeric, errors='coerce')"
   ]
  },
  {
   "cell_type": "code",
   "execution_count": 5,
   "id": "6a466131",
   "metadata": {},
   "outputs": [
    {
     "name": "stdout",
     "output_type": "stream",
     "text": [
      "x2 split at 8: IG: 0.18905266854301617 Gain Ratio: 0.4301569161309807\n",
      "x2 split at 7: IG: 0.03827452220629246 Gain Ratio: 0.055953759631263526\n",
      "x2 split at 6: IG: 0.19958702318968735 Gain Ratio: 0.23609960614360798\n",
      "x2 split at 5: IG: 0.10519553207004628 Gain Ratio: 0.11124029586339801\n",
      "x2 split at 4: IG: 0.04945207278939401 Gain Ratio: 0.049749064181778546\n",
      "x2 split at 3: IG: 0.016313165825732057 Gain Ratio: 0.016411136842102134\n",
      "x2 split at 2: IG: 0.0010821659130775263 Gain Ratio: 0.0011443495172767494\n",
      "x2 split at 1: IG: 0.004886164091842726 Gain Ratio: 0.00578004220515232\n",
      "x2 split at 0: IG: 0.03827452220629246 Gain Ratio: 0.055953759631263526\n",
      "x2 split at -1: IG: 0.04417739186726133 Gain Ratio: 0.10051807676021828\n",
      "x2 split at -2: IG: 0 Gain Ratio: inf\n",
      "x1 split at 0.1: IG: 0.04417739186726133 Gain Ratio: 0.10051807676021828\n",
      "x1 split at 0: IG: 0 Gain Ratio: inf\n"
     ]
    },
    {
     "data": {
      "text/plain": [
       "0"
      ]
     },
     "execution_count": 5,
     "metadata": {},
     "output_type": "execute_result"
    }
   ],
   "source": [
    "info_gain(df,'x2',8)\n",
    "info_gain(df,'x2',7)\n",
    "info_gain(df,'x2',6)\n",
    "info_gain(df,'x2',5)\n",
    "info_gain(df,'x2',4)\n",
    "info_gain(df,'x2',3)\n",
    "info_gain(df,'x2',2)\n",
    "info_gain(df,'x2',1)\n",
    "info_gain(df,'x2',0)\n",
    "info_gain(df,'x2',-1)\n",
    "info_gain(df,'x2',-2)\n",
    "info_gain(df,'x1',0.1)\n",
    "info_gain(df,'x1',0)"
   ]
  },
  {
   "cell_type": "code",
   "execution_count": 6,
   "id": "be3e296b",
   "metadata": {},
   "outputs": [
    {
     "data": {
      "text/plain": [
       "<matplotlib.collections.PathCollection at 0x1c3778bb2b0>"
      ]
     },
     "execution_count": 6,
     "metadata": {},
     "output_type": "execute_result"
    },
    {
     "data": {
      "image/png": "[encoded data removed]",
      "text/plain": [
       "<Figure size 432x288 with 1 Axes>"
      ]
     },
     "metadata": {},
     "output_type": "display_data"
    }
   ],
   "source": [
    "#2.2\n",
    "import matplotlib.pyplot as plt\n",
    "plt.style.use('seaborn-whitegrid')\n",
    "import numpy as np\n",
    "\n",
    "plt.xlabel('X1')\n",
    "plt.ylabel('X2')\n",
    "\n",
    "plt.scatter([0, 0, 1, 1], [0, 1, 0, 1], color=['blue','red','red','blue'])"
   ]
  },
  {
   "cell_type": "code",
   "execution_count": 22,
   "id": "5621578a",
   "metadata": {},
   "outputs": [],
   "source": [
    "#define again without the print\n",
    "def entropy(data):\n",
    "    count = len(data)\n",
    "    outcome = list(data[\"Outcome\"])\n",
    "    p0 = float(sum(b == 1 for b in outcome) / count)\n",
    "    p1 = float(1 - p0)\n",
    "    if p0 == 0 or p1 == 0:\n",
    "        H = 0\n",
    "    else:\n",
    "        H = -p0*np.log2(p0)-p1*(np.log2(p1))\n",
    "    return H\n",
    "\n",
    "def info_gain(df, fea, threshold):\n",
    "    count = len(df)\n",
    "    sub_1 = df[df[fea] < threshold]\n",
    "    sub_2 = df[df[fea] >= threshold]\n",
    "    if len(sub_1) == 0 or len(sub_2) == 0: \n",
    "        #print(fea + \" split at \" + str(threshold) + \": IG: 0\" + \" Gain Ratio: inf\")\n",
    "        return 0\n",
    "\n",
    "    remainder = float((sub_1.shape[0]/count) * entropy(sub_1) + (sub_2.shape[0]/count) * entropy(sub_2))\n",
    "    I = float(-1*sub_1.shape[0]/count)*np.log2(sub_1.shape[0]/count) + float(-1*sub_2.shape[0]/count)*np.log2(sub_2.shape[0]/count)\n",
    "    infoGain = entropy(df)- remainder\n",
    "    gain_ratio = infoGain /I\n",
    "    #print(fea + \" split at \" + str(threshold) + \": IG: \" + str(infoGain)+ \" Gain Ratio: \" + str(gain_ratio))\n",
    "    return infoGain\n",
    "\n",
    "def find_best_split(data,fea):\n",
    "    #find the feature that is interested\n",
    "    thresholds = data[fea].tolist()\n",
    "    thresholds = [float(x) for x in thresholds]\n",
    "    #find the split with max infoGain\n",
    "    max_ig = float(\"-inf\")\n",
    "    best_split = 0\n",
    "    \n",
    "    for i in range(0, len(thresholds)):\n",
    "            thres = thresholds[i]\n",
    "            ig = info_gain(data, fea, thres)\n",
    "            if ig >= max_ig:\n",
    "                max_ig = ig\n",
    "                best_split = thres\n",
    "\n",
    "    return best_split\n",
    "\n",
    "def choose_feature(df):\n",
    "    max_ig = float(\"-inf\")\n",
    "    best_fea = None\n",
    "    threshold = 0\n",
    "    fea_list = list(df.columns)[:-1]\n",
    "    \n",
    "    for fea in fea_list:\n",
    "        thres = find_best_split(df, fea)\n",
    "        ig = info_gain(df, fea, thres)\n",
    "        if ig > max_ig:\n",
    "                max_ig = ig\n",
    "                best_fea = fea\n",
    "                threshold = thres\n",
    "        \n",
    "    return best_fea, threshold, max_ig\n",
    "\n",
    "def build_tree(df):\n",
    "    outcome = list(df[\"Outcome\"])\n",
    "    p1 = sum(b == 1 for b in outcome)\n",
    "    p0 = sum(b == 0 for b in outcome)\n",
    "    if p1 == 0 or p0 == 0:\n",
    "        leaf = Node(None,None)\n",
    "        leaf.leaf = True\n",
    "        if p1 >= p0:\n",
    "            leaf.predict = 1\n",
    "        else:\n",
    "            leaf.predict = 0\n",
    "        leaf.leaf_nums = p1+p0\n",
    "        return leaf\n",
    "    else:\n",
    "        best_fea, threshold, ig = choose_feature(df)\n",
    "        tree = Node(best_fea, threshold, ig=ig)\n",
    "        sub_1 = df[df[best_fea] >= threshold]\n",
    "        sub_2 = df[df[best_fea] < threshold]\n",
    "\n",
    "        tree.left_nums = sub_1.shape[0]\n",
    "        tree.right_nums = sub_2.shape[0]\n",
    "\n",
    "        tree.left = build_tree(sub_1)\n",
    "        tree.right = build_tree(sub_2)\n",
    "        return tree\n",
    "    \n",
    "def print_tree(root):\n",
    "    if (root.leaf):\n",
    "        print('return ',root.predict)\n",
    "    else:\n",
    "        print('if （',root.attr,' >= ',root.thres,')')\n",
    "        print_tree(root.left)\n",
    "        \n",
    "        print('else')\n",
    "        print_tree(root.right)"
   ]
  },
  {
   "cell_type": "code",
   "execution_count": 24,
   "id": "727ee3e0",
   "metadata": {},
   "outputs": [
    {
     "name": "stdout",
     "output_type": "stream",
     "text": [
      "if （ x1  >=  10.0 )\n",
      "return  1\n",
      "else\n",
      "if （ x2  >=  3.0 )\n",
      "return  1\n",
      "else\n",
      "return  0\n"
     ]
    }
   ],
   "source": [
    "df = pd.read_csv(\"D3leaves.txt\", sep=\" \", header=None)\n",
    "df.columns = ['x1', 'x2', 'Outcome']\n",
    "cols = df.columns   \n",
    "df[cols] = df[cols].apply(pd.to_numeric, errors='coerce')\n",
    "tree = build_tree(df)\n",
    "print_tree(tree)"
   ]
  },
  {
   "cell_type": "code",
   "execution_count": 26,
   "id": "58fdd6ad",
   "metadata": {},
   "outputs": [
    {
     "name": "stdout",
     "output_type": "stream",
     "text": [
      "if （ x2  >=  0.201829 )\n",
      "return  1\n",
      "else\n",
      "return  0\n",
      "\n",
      "if （ x1  >=  0.533076 )\n",
      "if （ x2  >=  0.383738 )\n",
      "if （ x1  >=  0.550364 )\n",
      "return  1\n",
      "else\n",
      "if （ x2  >=  0.474971 )\n",
      "return  1\n",
      "else\n",
      "return  0\n",
      "else\n",
      "if （ x1  >=  0.761423 )\n",
      "if （ x2  >=  0.191206 )\n",
      "return  1\n",
      "else\n",
      "if （ x1  >=  0.90482 )\n",
      "if （ x2  >=  0.037708 )\n",
      "if （ x1  >=  0.930371 )\n",
      "return  1\n",
      "else\n",
      "if （ x1  >=  0.927522 )\n",
      "return  0\n",
      "else\n",
      "return  1\n",
      "else\n",
      "return  0\n",
      "else\n",
      "if （ x2  >=  0.169053 )\n",
      "if （ x1  >=  0.850316 )\n",
      "return  1\n",
      "else\n",
      "return  0\n",
      "else\n",
      "return  0\n",
      "else\n",
      "if （ x2  >=  0.301105 )\n",
      "if （ x1  >=  0.66337 )\n",
      "return  1\n",
      "else\n",
      "return  0\n",
      "else\n",
      "return  0\n",
      "else\n",
      "if （ x2  >=  0.639018 )\n",
      "if （ x1  >=  0.111076 )\n",
      "if （ x2  >=  0.861 )\n",
      "return  1\n",
      "else\n",
      "if （ x1  >=  0.33046 )\n",
      "return  1\n",
      "else\n",
      "if （ x2  >=  0.745406 )\n",
      "if （ x1  >=  0.254049 )\n",
      "return  1\n",
      "else\n",
      "if （ x1  >=  0.191915 )\n",
      "if （ x2  >=  0.792752 )\n",
      "return  1\n",
      "else\n",
      "return  0\n",
      "else\n",
      "return  0\n",
      "else\n",
      "return  0\n",
      "else\n",
      "if （ x2  >=  0.964767 )\n",
      "return  1\n",
      "else\n",
      "return  0\n",
      "else\n",
      "if （ x2  >=  0.534979 )\n",
      "if （ x1  >=  0.409972 )\n",
      "if （ x1  >=  0.426073 )\n",
      "return  1\n",
      "else\n",
      "if （ x1  >=  0.417579 )\n",
      "return  0\n",
      "else\n",
      "return  1\n",
      "else\n",
      "return  0\n",
      "else\n",
      "return  0\n"
     ]
    }
   ],
   "source": [
    "#p2.5 & 2.6\n",
    "data_d1 = pd.read_csv(\"D1.txt\", sep=\" \", header=None)\n",
    "data_d1.columns = ['x1', 'x2', 'Outcome']\n",
    "cols = data_d1.columns   \n",
    "data_d1[cols] = data_d1[cols].apply(pd.to_numeric, errors='coerce')\n",
    "d1_tree = build_tree(data_d1)\n",
    "print_tree(d1_tree)\n",
    "print()\n",
    "data_d2 = pd.read_csv(\"D2.txt\", sep=\" \", header=None)\n",
    "data_d2.columns = ['x1', 'x2', 'Outcome']\n",
    "cols = data_d2.columns   \n",
    "data_d2[cols] = data_d2[cols].apply(pd.to_numeric, errors='coerce')\n",
    "d2_tree = build_tree(data_d2)\n",
    "print_tree(d2_tree)"
   ]
  },
  {
   "cell_type": "code",
   "execution_count": 28,
   "id": "2791f5d6",
   "metadata": {},
   "outputs": [
    {
     "data": {
      "text/plain": [
       "[<matplotlib.lines.Line2D at 0x1c3798033d0>]"
      ]
     },
     "execution_count": 28,
     "metadata": {},
     "output_type": "execute_result"
    },
    {
     "data": {
      "image/png": "[encoded data removed]",
      "text/plain": [
       "<Figure size 432x288 with 1 Axes>"
      ]
     },
     "metadata": {},
     "output_type": "display_data"
    }
   ],
   "source": [
    "x_blue = np.array(data_d1[data_d1['Outcome']==1]['x1'])\n",
    "y_blue = np.array(data_d1[data_d1['Outcome']==1]['x2'])\n",
    "x_red = np.array(data_d1[data_d1['Outcome']==0]['x1'])\n",
    "y_red = np.array(data_d1[data_d1['Outcome']==0]['x2'])\n",
    "\n",
    "plt.xlabel('x1')\n",
    "plt.ylabel('x2')\n",
    "\n",
    "plt.plot(x_blue, y_blue, 'o', color='blue')\n",
    "plt.plot(x_red, y_red, 'o', color='red')\n",
    "\n"
   ]
  },
  {
   "cell_type": "code",
   "execution_count": 29,
   "id": "331ef7ec",
   "metadata": {},
   "outputs": [
    {
     "data": {
      "text/plain": [
       "[<matplotlib.lines.Line2D at 0x1c3799df070>]"
      ]
     },
     "execution_count": 29,
     "metadata": {},
     "output_type": "execute_result"
    },
    {
     "data": {
      "image/png": "[encoded data removed]",
      "text/plain": [
       "<Figure size 432x288 with 1 Axes>"
      ]
     },
     "metadata": {},
     "output_type": "display_data"
    }
   ],
   "source": [
    "x_blue = np.array(data_d2[data_d2['Outcome']==1]['x1'])\n",
    "y_blue = np.array(data_d2[data_d2['Outcome']==1]['x2'])\n",
    "x_red = np.array(data_d2[data_d2['Outcome']==0]['x1'])\n",
    "y_red = np.array(data_d2[data_d2['Outcome']==0]['x2'])\n",
    "\n",
    "plt.xlabel('x1')\n",
    "plt.ylabel('x2')\n",
    "\n",
    "plt.plot(x_blue, y_blue, 'o', color='blue')\n",
    "plt.plot(x_red, y_red, 'o', color='red')"
   ]
  },
  {
   "cell_type": "code",
   "execution_count": 30,
   "id": "971b460f",
   "metadata": {},
   "outputs": [],
   "source": [
    "#p2.7\n",
    "df = pd.read_csv(\"Dbig.txt\", sep=\" \", header=None)\n",
    "df.columns = ['x1', 'x2', 'Outcome']\n",
    "cols = df.columns   \n",
    "df[cols] = df[cols].apply(pd.to_numeric, errors='coerce')"
   ]
  },
  {
   "cell_type": "code",
   "execution_count": 52,
   "id": "4bb181fd",
   "metadata": {},
   "outputs": [],
   "source": [
    "def single_predict(node, row_df):\n",
    "# If we are at a leaf node, return the prediction of the leaf node\n",
    "    if node.leaf:\n",
    "        return node.predict\n",
    "    # Traverse left or right subtree based on instance's data\n",
    "    if row_df[node.attr] >= node.thres:\n",
    "        return single_predict(node.left, row_df)\n",
    "    elif row_df[node.attr] < node.thres:\n",
    "        return single_predict(node.right, row_df)\n",
    "    \n",
    "    \n",
    "def test_predictions(tree,test_data):\n",
    "        root = tree\n",
    "        num_data = test_data.shape[0]\n",
    "        num_correct = 0\n",
    "        for index,row in test_data.iterrows():\n",
    "            prediction = single_predict(root, row)\n",
    "            if prediction == row['Outcome']:\n",
    "                num_correct += 1\n",
    "        metrics = {\n",
    "            \"Accuracy\": round(num_correct/num_data, 2),\n",
    "            \"Error\": 1 - round(num_correct/num_data, 2),\n",
    "        }\n",
    "        return metrics\n",
    "\n",
    "def count_nodes(node):\n",
    "    if node is None:\n",
    "        return 0\n",
    "    return 1 + count_nodes(node.left) + count_nodes(node.right)\n",
    "\n"
   ]
  },
  {
   "cell_type": "code",
   "execution_count": 69,
   "id": "6429e3da",
   "metadata": {},
   "outputs": [],
   "source": [
    "dbig_train = df.sample(n=8192)\n",
    "df_test = df.loc[~df.index.isin(dbig_train.index)]\n",
    "d32 = dbig_train[:32]\n",
    "d128 = dbig_train[:128]\n",
    "d512 = dbig_train[:512]\n",
    "d2048 = dbig_train[:2048]\n",
    "d8192 = dbig_train[:8192]\n",
    "\n",
    "tree_32 = build_tree(d32)\n",
    "err_32 = test_predictions(tree_32,df_test)"
   ]
  },
  {
   "cell_type": "code",
   "execution_count": 70,
   "id": "f1fd9410",
   "metadata": {},
   "outputs": [],
   "source": [
    "tree_128 = build_tree(d128)\n",
    "err_128 = test_predictions(tree_128,df_test)"
   ]
  },
  {
   "cell_type": "code",
   "execution_count": 71,
   "id": "12b9ecdd",
   "metadata": {},
   "outputs": [],
   "source": [
    "tree_512 = build_tree(d512)\n",
    "err_512 = test_predictions(tree_512,df_test)"
   ]
  },
  {
   "cell_type": "code",
   "execution_count": 72,
   "id": "cc6aebba",
   "metadata": {},
   "outputs": [],
   "source": [
    "tree_2048 = build_tree(d2048)\n",
    "err_2048 = test_predictions(tree_2048,df_test)"
   ]
  },
  {
   "cell_type": "code",
   "execution_count": 73,
   "id": "a75116c7",
   "metadata": {},
   "outputs": [],
   "source": [
    "tree_8192 = build_tree(d8192)\n",
    "err_8192 = test_predictions(tree_8192,df_test)"
   ]
  },
  {
   "cell_type": "code",
   "execution_count": 75,
   "id": "b3ced39a",
   "metadata": {},
   "outputs": [
    {
     "name": "stdout",
     "output_type": "stream",
     "text": [
      "[13, 19, 37, 99, 191]\n",
      "[0.21999999999999997, 0.06000000000000005, 0.050000000000000044, 0.030000000000000027, 0.020000000000000018]\n"
     ]
    },
    {
     "data": {
      "text/plain": [
       "Text(0, 0.5, 'error_n')"
      ]
     },
     "execution_count": 75,
     "metadata": {},
     "output_type": "execute_result"
    },
    {
     "data": {
      "image/png": "[encoded data removed]",
      "text/plain": [
       "<Figure size 432x288 with 1 Axes>"
      ]
     },
     "metadata": {},
     "output_type": "display_data"
    }
   ],
   "source": [
    "n = [count_nodes(tree_32), count_nodes(tree_128), count_nodes(tree_512), count_nodes(tree_2048), count_nodes(tree_8192)]\n",
    "print(n)\n",
    "err = [err_32['Error'], err_128['Error'], err_512['Error'], err_2048['Error'], err_8192['Error']]\n",
    "print(err)\n",
    "plt.plot(n, err, '', color='black')\n",
    "plt.xlabel('n')\n",
    "plt.ylabel('error_n')"
   ]
  },
  {
   "cell_type": "code",
   "execution_count": 85,
   "id": "ddfd7d84",
   "metadata": {},
   "outputs": [
    {
     "data": {
      "text/plain": [
       "[<matplotlib.lines.Line2D at 0x1c379572c70>]"
      ]
     },
     "execution_count": 85,
     "metadata": {},
     "output_type": "execute_result"
    },
    {
     "data": {
      "image/png": "[encoded data removed]",
      "text/plain": [
       "<Figure size 432x288 with 1 Axes>"
      ]
     },
     "metadata": {},
     "output_type": "display_data"
    }
   ],
   "source": [
    "x_black = np.array(d32[d32['Outcome']==1]['x1'])\n",
    "y_black = np.array(d32[d32['Outcome']==1]['x2'])\n",
    "x_red = np.array(d32[d32['Outcome']==0]['x1'])\n",
    "y_red = np.array(d32[d32['Outcome']==0]['x2'])\n",
    "\n",
    "plt.xlabel('x1')\n",
    "plt.ylabel('x2')\n",
    "\n",
    "plt.plot(x_black, y_black, 'o', color='blue')\n",
    "plt.plot(x_red, y_red, 'o', color='red')"
   ]
  },
  {
   "cell_type": "code",
   "execution_count": 81,
   "id": "85514fcf",
   "metadata": {},
   "outputs": [
    {
     "data": {
      "text/plain": [
       "[<matplotlib.lines.Line2D at 0x1c37ad7a100>]"
      ]
     },
     "execution_count": 81,
     "metadata": {},
     "output_type": "execute_result"
    },
    {
     "data": {
      "image/png": "[encoded data removed]",
      "text/plain": [
       "<Figure size 432x288 with 1 Axes>"
      ]
     },
     "metadata": {},
     "output_type": "display_data"
    }
   ],
   "source": [
    "x_black = np.array(d128[d128['Outcome']==1]['x1'])\n",
    "y_black = np.array(d128[d128['Outcome']==1]['x2'])\n",
    "x_red = np.array(d128[d128['Outcome']==0]['x1'])\n",
    "y_red = np.array(d128[d128['Outcome']==0]['x2'])\n",
    "\n",
    "plt.xlabel('x1')\n",
    "plt.ylabel('x2')\n",
    "\n",
    "plt.plot(x_black, y_black, 'o', color='blue')\n",
    "plt.plot(x_red, y_red, 'o', color='red')"
   ]
  },
  {
   "cell_type": "code",
   "execution_count": 82,
   "id": "ecca8266",
   "metadata": {},
   "outputs": [
    {
     "data": {
      "text/plain": [
       "[<matplotlib.lines.Line2D at 0x1c37ac9cac0>]"
      ]
     },
     "execution_count": 82,
     "metadata": {},
     "output_type": "execute_result"
    },
    {
     "data": {
      "image/png": "[encoded data removed]",
      "text/plain": [
       "<Figure size 432x288 with 1 Axes>"
      ]
     },
     "metadata": {},
     "output_type": "display_data"
    }
   ],
   "source": [
    "x_black = np.array(d512[d512['Outcome']==1]['x1'])\n",
    "y_black = np.array(d512[d512['Outcome']==1]['x2'])\n",
    "x_red = np.array(d512[d512['Outcome']==0]['x1'])\n",
    "y_red = np.array(d512[d512['Outcome']==0]['x2'])\n",
    "\n",
    "plt.xlabel('x1')\n",
    "plt.ylabel('x2')\n",
    "\n",
    "plt.plot(x_black, y_black, 'o', color='blue')\n",
    "plt.plot(x_red, y_red, 'o', color='red')"
   ]
  },
  {
   "cell_type": "code",
   "execution_count": 83,
   "id": "bd5dacd4",
   "metadata": {},
   "outputs": [
    {
     "data": {
      "text/plain": [
       "[<matplotlib.lines.Line2D at 0x1c374a0d370>]"
      ]
     },
     "execution_count": 83,
     "metadata": {},
     "output_type": "execute_result"
    },
    {
     "data": {
      "image/png": "[encoded data removed]",
      "text/plain": [
       "<Figure size 432x288 with 1 Axes>"
      ]
     },
     "metadata": {},
     "output_type": "display_data"
    }
   ],
   "source": [
    "x_black = np.array(d2048[d2048['Outcome']==1]['x1'])\n",
    "y_black = np.array(d2048[d2048['Outcome']==1]['x2'])\n",
    "x_red = np.array(d2048[d2048['Outcome']==0]['x1'])\n",
    "y_red = np.array(d2048[d2048['Outcome']==0]['x2'])\n",
    "\n",
    "plt.xlabel('x1')\n",
    "plt.ylabel('x2')\n",
    "\n",
    "plt.plot(x_black, y_black, 'o', color='blue')\n",
    "plt.plot(x_red, y_red, 'o', color='red')"
   ]
  },
  {
   "cell_type": "code",
   "execution_count": 84,
   "id": "c1e86130",
   "metadata": {},
   "outputs": [
    {
     "data": {
      "text/plain": [
       "[<matplotlib.lines.Line2D at 0x1c378026040>]"
      ]
     },
     "execution_count": 84,
     "metadata": {},
     "output_type": "execute_result"
    },
    {
     "data": {
      "image/png": "[encoded data removed]",
      "text/plain": [
       "<Figure size 432x288 with 1 Axes>"
      ]
     },
     "metadata": {},
     "output_type": "display_data"
    }
   ],
   "source": [
    "x_black = np.array(d8192[d8192['Outcome']==1]['x1'])\n",
    "y_black = np.array(d8192[d8192['Outcome']==1]['x2'])\n",
    "x_red = np.array(d8192[d8192['Outcome']==0]['x1'])\n",
    "y_red = np.array(d8192[d8192['Outcome']==0]['x2'])\n",
    "\n",
    "plt.xlabel('x1')\n",
    "plt.ylabel('x2')\n",
    "\n",
    "plt.plot(x_black, y_black, 'o', color='blue')\n",
    "plt.plot(x_red, y_red, 'o', color='red')"
   ]
  },
  {
   "cell_type": "code",
   "execution_count": 87,
   "id": "4d3eb8bd",
   "metadata": {},
   "outputs": [
    {
     "name": "stdout",
     "output_type": "stream",
     "text": [
      "0.2566371681415929\n",
      "0.06803097345132747\n"
     ]
    }
   ],
   "source": [
    "#SK LEARN\n",
    "from sklearn.tree import DecisionTreeClassifier\n",
    "\n",
    "\n",
    "df = pd.read_csv(\"Dbig.txt\", sep=\" \", header=None)\n",
    "df.columns = ['x1', 'x2', 'Outcome']\n",
    "cols = df.columns   \n",
    "df[cols] = df[cols].apply(pd.to_numeric, errors='coerce')\n",
    "\n",
    "\n",
    "dbig_train = df.sample(n=8192)\n",
    "df_test = df.loc[~df.index.isin(dbig_train.index)]\n",
    "d32 = dbig_train[:32]\n",
    "d128 = dbig_train[:128]\n",
    "d512 = dbig_train[:512]\n",
    "d2048 = dbig_train[:2048]\n",
    "d8192 = dbig_train[:8192]\n",
    "\n",
    "\n",
    "\n",
    "clf = DecisionTreeClassifier(criterion=\"entropy\")\n",
    "\n",
    "x_32 = d32.drop(columns='Outcome')\n",
    "y_32 = d32['Outcome']\n",
    "\n",
    "x_128 = d128.drop(columns='Outcome')\n",
    "y_128 = d128['Outcome']\n",
    "\n",
    "x_512 = d512.drop(columns='Outcome')\n",
    "y_512 = d512['Outcome']\n",
    "\n",
    "x_2048 = d2048.drop(columns='Outcome')\n",
    "y_2048 = d2048['Outcome']\n",
    "\n",
    "x_8192 = d8192.drop(columns='Outcome')\n",
    "y_8192 = d8192['Outcome']\n",
    "\n",
    "tree_32 = clf.fit(x_32, y_32)\n",
    "node_cnt_32 = clf.tree_.node_count\n",
    "x_test_32 = df_test.drop(columns='Outcome')\n",
    "y_test_32 = df_test['Outcome']\n",
    "err_32 = 1- tree_32.score(x_test_32, y_test_32)\n",
    "print(err_32)\n",
    "\n",
    "tree128 = clf.fit(x_128, y_128)\n",
    "node_cnt_128 = clf.tree_.node_count\n",
    "x_test_128 = df_test.drop(columns='Outcome')\n",
    "y_test_128 = df_test['Outcome']\n",
    "err_128 = 1- tree128.score(x_test_128, y_test_128)\n",
    "print(err_128)\n",
    "\n",
    "tree_512 = clf.fit(x_512, y_512)\n",
    "node_cnt_512 = clf.tree_.node_count\n",
    "x_test_512 = df_test.drop(columns='Outcome')\n",
    "y_test_512 = df_test['Outcome']\n",
    "err_512 = 1- tree_512.score(x_test_512, y_test_512)\n",
    "\n",
    "tree_2048 = clf.fit(x_2048, y_2048)\n",
    "node_cnt_2048 = clf.tree_.node_count\n",
    "x_test_2048 = df_test.drop(columns='Outcome')\n",
    "y_test_2048 = df_test['Outcome']\n",
    "err_2048 = 1- tree_2048.score(x_test_2048, y_test_2048)\n",
    "\n",
    "tree_8192 = clf.fit(x_8192, y_8192)\n",
    "node_cnt_8192 = clf.tree_.node_count\n",
    "x_test_8192 = df_test.drop(columns='Outcome')\n",
    "y_test_8192 = df_test['Outcome']\n",
    "err_8192 = 1- tree_8192.score(x_test_8192, y_test_8192)"
   ]
  },
  {
   "cell_type": "code",
   "execution_count": 88,
   "id": "fb1818e0",
   "metadata": {},
   "outputs": [
    {
     "name": "stdout",
     "output_type": "stream",
     "text": [
      "[7, 19, 57, 97, 219]\n",
      "[0.2566371681415929, 0.06803097345132747, 0.033738938053097356, 0.025995575221238965, 0.015486725663716783]\n"
     ]
    },
    {
     "data": {
      "text/plain": [
       "Text(0, 0.5, 'error_n')"
      ]
     },
     "execution_count": 88,
     "metadata": {},
     "output_type": "execute_result"
    },
    {
     "data": {
      "image/png": "[encoded data removed]",
      "text/plain": [
       "<Figure size 432x288 with 1 Axes>"
      ]
     },
     "metadata": {},
     "output_type": "display_data"
    }
   ],
   "source": [
    "n = [node_cnt_32, node_cnt_128, node_cnt_512, node_cnt_2048, node_cnt_8192]\n",
    "print(n)\n",
    "err = [err_32, err_128, err_512, err_2048, err_8192]\n",
    "print(err)\n",
    "plt.plot(n, err, '', color='black')\n",
    "plt.xlabel('n')\n",
    "plt.ylabel('error_n')\n"
   ]
  },
  {
   "cell_type": "code",
   "execution_count": 92,
   "id": "80083bcb",
   "metadata": {},
   "outputs": [
    {
     "name": "stdout",
     "output_type": "stream",
     "text": [
      "6.0240681401377375e+69\n",
      "7.961265546265365e+69\n"
     ]
    }
   ],
   "source": [
    "#Problem 4\n",
    "x = (10 - 0) * np.random.random_sample((100,))\n",
    "y = np.sin(x)\n",
    "\n",
    "from scipy.interpolate import lagrange\n",
    "poly = lagrange(x, y)\n",
    "\n",
    "x_test = (10 - 0) * np.random.random_sample((100,))\n",
    "y_test = np.sin(x_test)\n",
    "poly = lagrange(x_test, y_test)\n",
    "\n",
    "from sklearn.metrics import mean_absolute_error\n",
    "print(mean_absolute_error(poly(x), y))\n",
    "print(mean_absolute_error(poly(x_test), y_test))"
   ]
  },
  {
   "cell_type": "code",
   "execution_count": 96,
   "id": "a1042a11",
   "metadata": {},
   "outputs": [
    {
     "name": "stdout",
     "output_type": "stream",
     "text": [
      "3.401296841573264e+71\n"
     ]
    },
    {
     "data": {
      "text/plain": [
       "8.381983211735076e+75"
      ]
     },
     "execution_count": 96,
     "metadata": {},
     "output_type": "execute_result"
    }
   ],
   "source": [
    "noise = np.random.normal(0, 1, 100)\n",
    "x = (10 - 0) * np.random.random_sample((100,))\n",
    "x = noise+x\n",
    "poly = lagrange(x, y)\n",
    "print(mean_absolute_error(poly(x), y))\n",
    "x_test = (10 - 0) * np.random.random_sample((100,))\n",
    "y_test = np.sin(x_test)\n",
    "poly = lagrange(x_test, y_test)\n",
    "mean_absolute_error(poly(x_test), y_test)"
   ]
  },
  {
   "cell_type": "code",
   "execution_count": 97,
   "id": "57ddd6f8",
   "metadata": {},
   "outputs": [
    {
     "name": "stdout",
     "output_type": "stream",
     "text": [
      "3.538470614878781e+63\n"
     ]
    },
    {
     "data": {
      "text/plain": [
       "2.7350241953620593e+71"
      ]
     },
     "execution_count": 97,
     "metadata": {},
     "output_type": "execute_result"
    }
   ],
   "source": [
    "noise = np.random.normal(0, 10, 100)\n",
    "x = (10 - 0) * np.random.random_sample((100,))\n",
    "x = noise+x\n",
    "poly = lagrange(x, y)\n",
    "print(mean_absolute_error(poly(x), y))\n",
    "x_test = (10 - 0) * np.random.random_sample((100,))\n",
    "y_test = np.sin(x_test)\n",
    "poly = lagrange(x_test, y_test)\n",
    "mean_absolute_error(poly(x_test), y_test)"
   ]
  },
  {
   "cell_type": "code",
   "execution_count": 98,
   "id": "8ee30537",
   "metadata": {},
   "outputs": [
    {
     "name": "stdout",
     "output_type": "stream",
     "text": [
      "4.7581126297460597e+58\n"
     ]
    },
    {
     "data": {
      "text/plain": [
       "2.933604990853524e+83"
      ]
     },
     "execution_count": 98,
     "metadata": {},
     "output_type": "execute_result"
    }
   ],
   "source": [
    "noise = np.random.normal(0, 50, 100)\n",
    "x = (10 - 0) * np.random.random_sample((100,))\n",
    "x = noise+x\n",
    "poly = lagrange(x, y)\n",
    "print(mean_absolute_error(poly(x), y))\n",
    "x_test = (10 - 0) * np.random.random_sample((100,))\n",
    "y_test = np.sin(x_test)\n",
    "poly = lagrange(x_test, y_test)\n",
    "mean_absolute_error(poly(x_test), y_test)"
   ]
  },
  {
   "cell_type": "code",
   "execution_count": null,
   "id": "a59f3631",
   "metadata": {},
   "outputs": [],
   "source": []
  }
 ],
 "metadata": {
  "kernelspec": {
   "display_name": "Python 3",
   "language": "python",
   "name": "python3"
  },
  "language_info": {
   "codemirror_mode": {
    "name": "ipython",
    "version": 3
   },
   "file_extension": ".py",
   "mimetype": "text/x-python",
   "name": "python",
   "nbconvert_exporter": "python",
   "pygments_lexer": "ipython3",
   "version": "3.8.8"
  }
 },
 "nbformat": 4,
 "nbformat_minor": 5
}
