{
 "cells": [
  {
   "cell_type": "code",
   "execution_count": 1,
   "id": "2d9f9524",
   "metadata": {},
   "outputs": [],
   "source": [
    "import os\n",
    "import glob\n",
    "import math\n",
    "import numpy as np"
   ]
  },
  {
   "cell_type": "code",
   "execution_count": 2,
   "id": "e1295440",
   "metadata": {},
   "outputs": [],
   "source": [
    "#Bayes\n",
    "\n",
    "prior = float((10 + 0.5)) / (30 + 3*0.5)\n",
    "\n",
    "\n",
    "# Folder Path\n",
    "path = \"languageID\"\n",
    "languages = ['e', 's', 'j']\n",
    "\n",
    "# Read text File\n",
    "def read_text_file(file_path):\n",
    "    with open(file_path, 'r') as f:\n",
    "        contents = f.read()\n",
    "    return contents\n",
    "# iterate through all training files\n",
    "global_count_dict = {'e':{}, 'j':{}, 's': {}}\n",
    "for language in languages:\n",
    "    dict = {}\n",
    "    for file in glob.glob(f\"{path}/{language}[0-9].txt\"):\n",
    "        file_path = f\"{file}\"\n",
    "        contents = read_text_file(file_path)\n",
    "        \n",
    "        for char in contents:\n",
    "            if char == \"\\n\":\n",
    "                continue\n",
    "            else:\n",
    "                if dict.get(char) == None:\n",
    "                    dict[char] = 1\n",
    "                else:\n",
    "                    dict[char] = dict[char] + 1   \n",
    "    global_count_dict[language] = dict"
   ]
  },
  {
   "cell_type": "code",
   "execution_count": 3,
   "id": "3029ecce",
   "metadata": {},
   "outputs": [
    {
     "name": "stdout",
     "output_type": "stream",
     "text": [
      "For language : e, the counted probability is {' ': 0.1792499586981662, 'a': 0.0601685114819098, 'b': 0.011134974392863043, 'c': 0.021509995043779945, 'd': 0.021972575582355856, 'e': 0.1053692383941847, 'f': 0.018932760614571286, 'g': 0.017478936064761277, 'h': 0.047216256401784236, 'i': 0.055410540227986124, 'j': 0.001420783082768875, 'k': 0.0037336857756484387, 'l': 0.028977366595076822, 'm': 0.020518751032545846, 'n': 0.057921691723112505, 'o': 0.06446390219725756, 'p': 0.01675202378985627, 'q': 0.0005617049396993227, 'r': 0.053824549810011564, 's': 0.06618205848339666, 't': 0.08012555757475633, 'u': 0.026664463902197257, 'v': 0.009284652238559392, 'w': 0.015496448042293078, 'x': 0.001156451346439782, 'y': 0.013844374690236246, 'z': 0.0006277878737815959}\n",
      "\n",
      "For language : s, the counted probability is {' ': 0.16826493170115014, 'a': 0.10456045141993771, 'b': 0.008232863618143134, 'c': 0.03752582405722919, 'd': 0.039745922111559924, 'e': 0.1138108599796491, 'f': 0.00860287996053159, 'g': 0.0071844839813758445, 'h': 0.0045327001942585795, 'i': 0.049859702136844375, 'j': 0.006629459467793161, 'k': 0.0002775122567913416, 'l': 0.052943171656748174, 'm': 0.02580863988159477, 'n': 0.054176559464709693, 'o': 0.07249236841293824, 'p': 0.02426690512164287, 'q': 0.007677839104560451, 'r': 0.05929511886774999, 's': 0.06577040485954797, 't': 0.03561407295488884, 'u': 0.03370232185254849, 'v': 0.00588942678301625, 'w': 9.250408559711388e-05, 'x': 0.0024976103111220747, 'y': 0.007862847275754679, 'z': 0.0026826184823163022}\n",
      "\n",
      "For language : j, the counted probability is {' ': 0.12344945665466997, 'a': 0.1317656102589189, 'b': 0.010866906600510151, 'c': 0.005485866033054963, 'd': 0.01722631818022992, 'e': 0.06020475907613823, 'f': 0.003878542227191726, 'g': 0.014011670568503443, 'h': 0.03176211607673224, 'i': 0.09703343932352633, 'j': 0.0023411020650616725, 'k': 0.05740941332681086, 'l': 0.001432614696530277, 'm': 0.03979873510604843, 'n': 0.05671057688947902, 'o': 0.09116321324993885, 'p': 0.0008735455466648031, 'q': 0.00010482546559977637, 'r': 0.04280373178657535, 's': 0.0421747789929767, 't': 0.056990111464411755, 'u': 0.07061742199238269, 'v': 0.0002445927530661449, 'w': 0.01974212935462455, 'y': 0.01415143785596981, 'z': 0.00772214263251686}\n",
      "\n"
     ]
    }
   ],
   "source": [
    "global_ccp = {'e':{}, 's':{}, 'j': {}}\n",
    "for language in languages:\n",
    "    count = {}\n",
    "    tol = 0\n",
    "    for char in sorted(global_count_dict[language].keys()):\n",
    "        tol += global_count_dict[language][char]\n",
    "    for char in sorted(global_count_dict[language].keys()):\n",
    "        if count.get(char) == None:\n",
    "            count[char] =  float(global_count_dict[language][char] + 0.5)/ (tol + (27 * 0.5))\n",
    "    global_ccp[language] = count\n",
    "\n",
    "    print(f\"For language : {language}, the counted probability is {count}\\n\")"
   ]
  },
  {
   "cell_type": "code",
   "execution_count": 4,
   "id": "1cc9edf6",
   "metadata": {},
   "outputs": [
    {
     "name": "stdout",
     "output_type": "stream",
     "text": [
      "Char    :  498\n",
      "Char  a :  164\n",
      "Char  b :  32\n",
      "Char  c :  53\n",
      "Char  d :  57\n",
      "Char  e :  311\n",
      "Char  f :  55\n",
      "Char  g :  51\n",
      "Char  h :  140\n",
      "Char  i :  140\n",
      "Char  j :  3\n",
      "Char  k :  6\n",
      "Char  l :  85\n",
      "Char  m :  64\n",
      "Char  n :  139\n",
      "Char  o :  182\n",
      "Char  p :  53\n",
      "Char  q :  3\n",
      "Char  r :  141\n",
      "Char  s :  186\n",
      "Char  t :  225\n",
      "Char  u :  65\n",
      "Char  v :  31\n",
      "Char  w :  47\n",
      "Char  x :  4\n",
      "Char  y :  38\n",
      "Char  z :  2\n"
     ]
    }
   ],
   "source": [
    "test = f\"{path}/e10.txt\"\n",
    "\n",
    "char_count = {}\n",
    "for char in read_text_file(test):\n",
    "    if char == \"\\n\":\n",
    "        continue\n",
    "    if char_count.get(char) == None:\n",
    "        char_count[char] = 1\n",
    "    else:\n",
    "        char_count[char] += 1   \n",
    "for i in sorted(char_count):\n",
    "    print(\"Char \", i, \": \",char_count[i])"
   ]
  },
  {
   "cell_type": "code",
   "execution_count": 5,
   "id": "8b283873",
   "metadata": {},
   "outputs": [
    {
     "name": "stdout",
     "output_type": "stream",
     "text": [
      "Log(p_hat) for e : -7841.865447060635\n",
      "Log(p_hat) for s : -8467.28204401056\n",
      "Log(p_hat) for j : -8749.114299535931\n"
     ]
    }
   ],
   "source": [
    "log_likelihood =  {'e': float(0), 'j': float(0), 's': float(0)}\n",
    "for language in languages:\n",
    "    ccp = global_ccp[language]\n",
    "    logsum = 0\n",
    "    for char in char_count:\n",
    "        if ccp.get(char) == None:\n",
    "            ccp[char] = 0.5 / 27*0.5\n",
    "        logsum = logsum + math.log(ccp[char]) * char_count[char]\n",
    "    print(f\"Log(p_hat) for {language} : {logsum}\")\n",
    "    log_likelihood[language] = logsum"
   ]
  },
  {
   "cell_type": "code",
   "execution_count": 6,
   "id": "c1255880",
   "metadata": {},
   "outputs": [
    {
     "name": "stdout",
     "output_type": "stream",
     "text": [
      "Log(posterior) for e : -2613.9551490202116\n",
      "Log(posterior) for s : -2916.3714331786437\n",
      "Log(posterior) for j : -2822.42734800352\n"
     ]
    }
   ],
   "source": [
    "posterior = [log_likelihood[i] * prior for i in log_likelihood]\n",
    "for i in range(3):\n",
    "    print(f\"Log(posterior) for {languages[i]} : {posterior[i]}\")"
   ]
  },
  {
   "cell_type": "code",
   "execution_count": null,
   "id": "ff9cb152",
   "metadata": {},
   "outputs": [],
   "source": []
  }
 ],
 "metadata": {
  "kernelspec": {
   "display_name": "Python 3",
   "language": "python",
   "name": "python3"
  },
  "language_info": {
   "codemirror_mode": {
    "name": "ipython",
    "version": 3
   },
   "file_extension": ".py",
   "mimetype": "text/x-python",
   "name": "python",
   "nbconvert_exporter": "python",
   "pygments_lexer": "ipython3",
   "version": "3.8.8"
  }
 },
 "nbformat": 4,
 "nbformat_minor": 5
}
